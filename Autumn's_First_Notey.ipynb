{
  "nbformat": 4,
  "nbformat_minor": 0,
  "metadata": {
    "colab": {
      "name": "Autumn's First Notey",
      "provenance": [],
      "authorship_tag": "ABX9TyP4kL7Ayp50rWFyEmFu8imM",
      "include_colab_link": true
    },
    "kernelspec": {
      "name": "python3",
      "display_name": "Python 3"
    },
    "language_info": {
      "name": "python"
    }
  },
  "cells": [
    {
      "cell_type": "markdown",
      "metadata": {
        "id": "view-in-github",
        "colab_type": "text"
      },
      "source": [
        "<a href=\"https://colab.research.google.com/github/autand/My-Notebook/blob/main/Autumn's_First_Notey.ipynb\" target=\"_parent\"><img src=\"https://colab.research.google.com/assets/colab-badge.svg\" alt=\"Open In Colab\"/></a>"
      ]
    },
    {
      "cell_type": "code",
      "execution_count": null,
      "metadata": {
        "id": "5FrErqF7Wn11"
      },
      "outputs": [],
      "source": [
        ""
      ]
    },
    {
      "cell_type": "markdown",
      "source": [
        "\n",
        "# My ***First*** Notebook\n"
      ],
      "metadata": {
        "id": "wDC6HhTKXDWs"
      }
    },
    {
      "cell_type": "markdown",
      "source": [
        "\n",
        "> ## This is Autumn's first notebook which holds her **secret** python codes.  \n",
        ">>### These codes could be **deadly**.  \n",
        ">>#### Read at your *own* risk.  \n",
        "\n",
        "\n",
        "\n"
      ],
      "metadata": {
        "id": "t6X7y_QrXeCp"
      }
    },
    {
      "cell_type": "markdown",
      "source": [
        "\n",
        "## The purpose of this notebook is to:\n",
        "\n",
        "* Learn python\n",
        "* Complete assignments\n",
        "* Be creative\n",
        "* Try to have some fun\n",
        "\n"
      ],
      "metadata": {
        "id": "wcNSZGvGZt-C"
      }
    },
    {
      "cell_type": "code",
      "source": [
        "print(\"I've never done this before in my life!\")\n",
        "\n",
        "x = 9 * 9\n",
        "print(x)\n",
        "\n",
        "# This is so weird.\n",
        "# At first glance this looks like gibberish.\n",
        "# But there is a theory at play here"
      ],
      "metadata": {
        "colab": {
          "base_uri": "https://localhost:8080/"
        },
        "id": "egJAzSZran3w",
        "outputId": "cd0cfc98-9d3d-40f2-faa6-4f29aa09f35a"
      },
      "execution_count": 8,
      "outputs": [
        {
          "output_type": "stream",
          "name": "stdout",
          "text": [
            "I've never done this before in my life!\n",
            "81\n"
          ]
        }
      ]
    },
    {
      "cell_type": "code",
      "source": [
        "x = 2 + 142\n",
        "print(x)\n",
        "\n",
        "y = 8 - 1\n",
        "print(y)\n",
        "\n",
        "x = 1 + 2 + 3 + 4\n",
        "print(x)\n",
        "\n",
        "# It can do simple algebra\n",
        "# But don't you dare ask the answer to x + x"
      ],
      "metadata": {
        "colab": {
          "base_uri": "https://localhost:8080/"
        },
        "id": "84l6p4OKbqxQ",
        "outputId": "593eae8b-0401-4183-a803-9decfd8c5820"
      },
      "execution_count": 7,
      "outputs": [
        {
          "output_type": "stream",
          "name": "stdout",
          "text": [
            "144\n",
            "7\n",
            "10\n"
          ]
        }
      ]
    },
    {
      "cell_type": "markdown",
      "source": [
        ""
      ],
      "metadata": {
        "id": "06SKCzVYYO4B"
      }
    }
  ]
}