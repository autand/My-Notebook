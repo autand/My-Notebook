{
  "nbformat": 4,
  "nbformat_minor": 0,
  "metadata": {
    "colab": {
      "name": "Study for  midterm",
      "provenance": [],
      "authorship_tag": "ABX9TyN28aVYF3PI9akb7zZiMK2U",
      "include_colab_link": true
    },
    "kernelspec": {
      "name": "python3",
      "display_name": "Python 3"
    },
    "language_info": {
      "name": "python"
    }
  },
  "cells": [
    {
      "cell_type": "markdown",
      "metadata": {
        "id": "view-in-github",
        "colab_type": "text"
      },
      "source": [
        "<a href=\"https://colab.research.google.com/github/autand/My-Notebook/blob/main/Study_for_midterm.ipynb\" target=\"_parent\"><img src=\"https://colab.research.google.com/assets/colab-badge.svg\" alt=\"Open In Colab\"/></a>"
      ]
    },
    {
      "cell_type": "code",
      "execution_count": null,
      "metadata": {
        "id": "g8CdPnIKHlTw"
      },
      "outputs": [],
      "source": [
        ""
      ]
    },
    {
      "cell_type": "markdown",
      "source": [
        "#All concepts that I need to master that are tricky at first glance"
      ],
      "metadata": {
        "id": "ZhZvirCOHr0F"
      }
    },
    {
      "cell_type": "code",
      "source": [
        "#Printing three ways: (1)Print function (2) String catenation (3) Interpolation\n",
        "#Overwritting variable assignments\n",
        "\n",
        "#memorizing +=\n",
        "z = 7\n",
        "z += 10 # this means the same as z = z + 10\n",
        "print(z)\n",
        "\n",
        "#determining a datatype\n",
        "\n",
        "#memorizing capitalization\n",
        "message = \"CANDYPOP\"\n",
        "\n",
        "print(message.lower())\n",
        "print(message.upper())\n",
        "print(message.title())\n",
        "print(message.replace(\"hello\", \"GOODBYE\"))\n",
        "\n",
        "#memorize equal to and not equal to\n",
        "print(4 == 4)\n",
        "print(4 != 5)\n",
        "\n",
        "#inclusion operator in lists\n",
        "print(5 in [1,2,7,5])\n",
        "\n",
        "#conditional if statements\n",
        "#when to indent\n",
        "#when to use if, elif, and else\n",
        "#code stops running when invalid\n",
        "#code runs withour crashing\n",
        "\n",
        "#Out of order def function\n",
        "def full_name(first_name, last_name):\n",
        "    #print(first_name + \" \" + last_name)\n",
        "    return first_name + \" \" + last_name\n",
        "\n",
        "# WRONG:\n",
        "print(full_name(\"Swift\", \"Taylor\"))\n",
        "print(full_name(last_name=\"Swift\", first_name=\"Taylor\"))\n",
        "\n",
        "#Determining how many items in a list\n",
        "sales = [100, 200, 500]\n",
        "print(len(sales))\n",
        "\n",
        "\n",
        "#Study dictionaries\n",
        "#Printing different parts of dictionary in list views\n",
        "\n",
        "#This is a dictionary w/ list nested\n",
        "person = {\"first_name\": \"Scott\", \"last_name\": \"Jones\", \"age\": 100}\n",
        "\n",
        "print(person[\"first_name\"])\n",
        "print(person[\"last_name\"])\n",
        "print(person[\"age\"])\n",
        "\n",
        "print(person.keys())\n",
        "print(list(person.keys()))\n",
        "\n",
        "#can replace keys with: values, or items"
      ],
      "metadata": {
        "colab": {
          "base_uri": "https://localhost:8080/"
        },
        "id": "OMQHRVq0INeL",
        "outputId": "61040b91-1de1-4c1e-ca28-10ca451d712b"
      },
      "execution_count": 6,
      "outputs": [
        {
          "output_type": "stream",
          "name": "stdout",
          "text": [
            "17\n",
            "candypop\n",
            "CANDYPOP\n",
            "Candypop\n",
            "CANDYPOP\n",
            "True\n",
            "True\n",
            "True\n",
            "Swift Taylor\n",
            "Taylor Swift\n",
            "3\n"
          ]
        }
      ]
    },
    {
      "cell_type": "markdown",
      "source": [
        "#Applying my coding knowledge to actual coding"
      ],
      "metadata": {
        "id": "Jfb9lsT-Ivo0"
      }
    },
    {
      "cell_type": "code",
      "source": [
        "#determine if car is speeding\n",
        "#inputing a favorite cookie flavor\n",
        "#input your favorite number\n",
        "#converting celsius to farenheit and vice\n",
        "#randomize a list\n"
      ],
      "metadata": {
        "id": "tkOeaUN1Iuz9"
      },
      "execution_count": null,
      "outputs": []
    },
    {
      "cell_type": "code",
      "source": [
        ""
      ],
      "metadata": {
        "id": "lV2WlUrnJLJW"
      },
      "execution_count": null,
      "outputs": []
    }
  ]
}